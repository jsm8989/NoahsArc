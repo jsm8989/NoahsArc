{
 "cells": [
  {
   "cell_type": "code",
   "execution_count": 4,
   "metadata": {},
   "outputs": [
    {
     "data": {
      "text/html": [
       "<div>\n",
       "<style scoped>\n",
       "    .dataframe tbody tr th:only-of-type {\n",
       "        vertical-align: middle;\n",
       "    }\n",
       "\n",
       "    .dataframe tbody tr th {\n",
       "        vertical-align: top;\n",
       "    }\n",
       "\n",
       "    .dataframe thead th {\n",
       "        text-align: right;\n",
       "    }\n",
       "</style>\n",
       "<table border=\"1\" class=\"dataframe\">\n",
       "  <thead>\n",
       "    <tr style=\"text-align: right;\">\n",
       "      <th></th>\n",
       "      <th>Date_Time</th>\n",
       "      <th>Gondola 1 (Acce [g])</th>\n",
       "    </tr>\n",
       "  </thead>\n",
       "  <tbody>\n",
       "    <tr>\n",
       "      <th>0</th>\n",
       "      <td>nan nan</td>\n",
       "      <td>NaN</td>\n",
       "    </tr>\n",
       "    <tr>\n",
       "      <th>1</th>\n",
       "      <td>05/05/2022 14:32:18</td>\n",
       "      <td>1.00</td>\n",
       "    </tr>\n",
       "    <tr>\n",
       "      <th>2</th>\n",
       "      <td>05/05/2022 14:32:19</td>\n",
       "      <td>1.00</td>\n",
       "    </tr>\n",
       "    <tr>\n",
       "      <th>3</th>\n",
       "      <td>05/05/2022 14:32:20</td>\n",
       "      <td>1.00</td>\n",
       "    </tr>\n",
       "    <tr>\n",
       "      <th>4</th>\n",
       "      <td>05/05/2022 14:32:21</td>\n",
       "      <td>1.03</td>\n",
       "    </tr>\n",
       "    <tr>\n",
       "      <th>...</th>\n",
       "      <td>...</td>\n",
       "      <td>...</td>\n",
       "    </tr>\n",
       "    <tr>\n",
       "      <th>4883</th>\n",
       "      <td>06/05/2022 16:37:26</td>\n",
       "      <td>1.05</td>\n",
       "    </tr>\n",
       "    <tr>\n",
       "      <th>4884</th>\n",
       "      <td>06/05/2022 16:37:27</td>\n",
       "      <td>1.05</td>\n",
       "    </tr>\n",
       "    <tr>\n",
       "      <th>4885</th>\n",
       "      <td>06/05/2022 16:37:28</td>\n",
       "      <td>1.06</td>\n",
       "    </tr>\n",
       "    <tr>\n",
       "      <th>4886</th>\n",
       "      <td>06/05/2022 16:37:29</td>\n",
       "      <td>1.08</td>\n",
       "    </tr>\n",
       "    <tr>\n",
       "      <th>4887</th>\n",
       "      <td>06/05/2022 16:37:30</td>\n",
       "      <td>1.05</td>\n",
       "    </tr>\n",
       "  </tbody>\n",
       "</table>\n",
       "<p>4888 rows × 2 columns</p>\n",
       "</div>"
      ],
      "text/plain": [
       "                Date_Time  Gondola 1 (Acce [g])\n",
       "0                 nan nan                   NaN\n",
       "1     05/05/2022 14:32:18                  1.00\n",
       "2     05/05/2022 14:32:19                  1.00\n",
       "3     05/05/2022 14:32:20                  1.00\n",
       "4     05/05/2022 14:32:21                  1.03\n",
       "...                   ...                   ...\n",
       "4883  06/05/2022 16:37:26                  1.05\n",
       "4884  06/05/2022 16:37:27                  1.05\n",
       "4885  06/05/2022 16:37:28                  1.06\n",
       "4886  06/05/2022 16:37:29                  1.08\n",
       "4887  06/05/2022 16:37:30                  1.05\n",
       "\n",
       "[4888 rows x 2 columns]"
      ]
     },
     "execution_count": 4,
     "metadata": {},
     "output_type": "execute_result"
    }
   ],
   "source": [
    "# file path that Jack sent us\n",
    "data_csv = \"/media/jimjam/Elements/NoahsArc-g-values Gondola#1.csv\"\n",
    "\n",
    "import pandas as pd\n",
    "from datetime import datetime\n",
    "import matplotlib.pyplot as plt\n",
    "import numpy as np\n",
    "\n",
    "g_values = pd.read_csv(data_csv, parse_dates=[[\"Date\",\"Time\"]])\n",
    "g_values # see the raw g-data that Jack sent us"
   ]
  },
  {
   "cell_type": "code",
   "execution_count": 5,
   "metadata": {},
   "outputs": [
    {
     "data": {
      "text/html": [
       "<div>\n",
       "<style scoped>\n",
       "    .dataframe tbody tr th:only-of-type {\n",
       "        vertical-align: middle;\n",
       "    }\n",
       "\n",
       "    .dataframe tbody tr th {\n",
       "        vertical-align: top;\n",
       "    }\n",
       "\n",
       "    .dataframe thead th {\n",
       "        text-align: right;\n",
       "    }\n",
       "</style>\n",
       "<table border=\"1\" class=\"dataframe\">\n",
       "  <thead>\n",
       "    <tr style=\"text-align: right;\">\n",
       "      <th></th>\n",
       "      <th>Date_Time</th>\n",
       "      <th>Gondola 1 (Acce [g])</th>\n",
       "    </tr>\n",
       "  </thead>\n",
       "  <tbody>\n",
       "    <tr>\n",
       "      <th>0</th>\n",
       "      <td>nan nan</td>\n",
       "      <td>NaN</td>\n",
       "    </tr>\n",
       "    <tr>\n",
       "      <th>41</th>\n",
       "      <td>nan nan</td>\n",
       "      <td>NaN</td>\n",
       "    </tr>\n",
       "    <tr>\n",
       "      <th>762</th>\n",
       "      <td>nan nan</td>\n",
       "      <td>NaN</td>\n",
       "    </tr>\n",
       "    <tr>\n",
       "      <th>1373</th>\n",
       "      <td>nan nan</td>\n",
       "      <td>NaN</td>\n",
       "    </tr>\n",
       "    <tr>\n",
       "      <th>1983</th>\n",
       "      <td>nan nan</td>\n",
       "      <td>NaN</td>\n",
       "    </tr>\n",
       "    <tr>\n",
       "      <th>2593</th>\n",
       "      <td>nan nan</td>\n",
       "      <td>NaN</td>\n",
       "    </tr>\n",
       "    <tr>\n",
       "      <th>3244</th>\n",
       "      <td>nan nan</td>\n",
       "      <td>NaN</td>\n",
       "    </tr>\n",
       "    <tr>\n",
       "      <th>3916</th>\n",
       "      <td>nan nan</td>\n",
       "      <td>NaN</td>\n",
       "    </tr>\n",
       "    <tr>\n",
       "      <th>4194</th>\n",
       "      <td>nan nan</td>\n",
       "      <td>NaN</td>\n",
       "    </tr>\n",
       "    <tr>\n",
       "      <th>4579</th>\n",
       "      <td>nan nan</td>\n",
       "      <td>NaN</td>\n",
       "    </tr>\n",
       "  </tbody>\n",
       "</table>\n",
       "</div>"
      ],
      "text/plain": [
       "     Date_Time  Gondola 1 (Acce [g])\n",
       "0      nan nan                   NaN\n",
       "41     nan nan                   NaN\n",
       "762    nan nan                   NaN\n",
       "1373   nan nan                   NaN\n",
       "1983   nan nan                   NaN\n",
       "2593   nan nan                   NaN\n",
       "3244   nan nan                   NaN\n",
       "3916   nan nan                   NaN\n",
       "4194   nan nan                   NaN\n",
       "4579   nan nan                   NaN"
      ]
     },
     "execution_count": 5,
     "metadata": {},
     "output_type": "execute_result"
    }
   ],
   "source": [
    "# the NaN values are used to separate runs\n",
    "g_values[g_values['Gondola 1 (Acce [g])'].isna()]"
   ]
  },
  {
   "cell_type": "code",
   "execution_count": 6,
   "metadata": {},
   "outputs": [],
   "source": [
    "# breaking up into useful runs - see text below\n",
    "g0=g_values[1:41]\n",
    "g1=g_values[42:762]\n",
    "g2=g_values[763:1373]\n",
    "g3=g_values[1374:1983]\n",
    "g4=g_values[1984:2593]\n",
    "g5=g_values[2594:3244]\n",
    "g6=g_values[3245:3916]\n",
    "g7=g_values[3917:4194]\n",
    "g8=g_values[4195:4579]"
   ]
  },
  {
   "cell_type": "markdown",
   "metadata": {},
   "source": [
    "- g0 was a blank run of the LDC with hardware so generated no data\n",
    "- g1 corresponds to \"Video1.2022-05-05-13-06-13\"\n",
    "- g2 by time is likely \"Video.2022-05-05-15-01-25\"\n",
    "- g3 is \"run2.2022-05-06-09-21-35\"\n",
    "- g4 is \"run3.2022-05-06-09-48-48\"\n",
    "- g5 \n",
    "- g6\n",
    "- g7\n",
    "- g8\n"
   ]
  },
  {
   "cell_type": "code",
   "execution_count": 27,
   "metadata": {},
   "outputs": [],
   "source": [
    "def plot_g_profile(run: int, save = False):\n",
    "    \"\"\"easily visualise the g profile for each of the runs 0--8, or all at once\"\"\"\n",
    "    \n",
    "    # horrible way to do this, sorry!\n",
    "    if run == 0: run_name = g0\n",
    "    elif run == 1: run_name = g1\n",
    "    elif run == 2: run_name = g2\n",
    "    elif run == 3: run_name = g3\n",
    "    elif run == 4: run_name = g4\n",
    "    elif run == 5: run_name = g5\n",
    "    elif run == 6: run_name = g6\n",
    "    elif run == 7: run_name = g7\n",
    "    elif run == 8: run_name = g8\n",
    "    elif run == 10: run_name = g_values\n",
    "    else: raise Exception(\"Unexpected run argument\")\n",
    "    \n",
    "    plt.plot(run_name[\"Date_Time\"], run_name[\"Gondola 1 (Acce [g])\"], label=run_name)\n",
    "    plt.xticks(range(0, len(run_name)+1, len(run_name)-1), rotation=0)\n",
    "    plt.ylabel(\"acceleration / g\")\n",
    "    plt.xlabel(\"time\")\n",
    "    plt.title(\"g profile for run {}\".format(run))\n",
    "    if save == True:\n",
    "        plt.savefig(\"g{}-profile.png\".format(run))\n",
    "    plt.show()\n",
    "    "
   ]
  },
  {
   "cell_type": "code",
   "execution_count": 37,
   "metadata": {},
   "outputs": [
    {
     "data": {
      "image/png": "[encoded data removed]",
      "text/plain": [
       "<Figure size 432x288 with 1 Axes>"
      ]
     },
     "metadata": {
      "needs_background": "light"
     },
     "output_type": "display_data"
    }
   ],
   "source": [
    "plot_g_profile(7) "
   ]
  },
  {
   "cell_type": "code",
   "execution_count": null,
   "metadata": {},
   "outputs": [],
   "source": [
    "# FIJI data:\n"
   ]
  }
 ],
 "metadata": {
  "kernelspec": {
   "display_name": "Python 3",
   "language": "python",
   "name": "python3"
  },
  "language_info": {
   "codemirror_mode": {
    "name": "ipython",
    "version": 3
   },
   "file_extension": ".py",
   "mimetype": "text/x-python",
   "name": "python",
   "nbconvert_exporter": "python",
   "pygments_lexer": "ipython3",
   "version": "3.8.10"
  }
 },
 "nbformat": 4,
 "nbformat_minor": 4
}
